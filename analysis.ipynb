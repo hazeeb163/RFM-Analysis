{
 "cells": [
  {
   "cell_type": "markdown",
   "metadata": {},
   "source": [
    "RFM"
   ]
  },
  {
   "cell_type": "code",
   "execution_count": 1,
   "metadata": {},
   "outputs": [
    {
     "data": {
      "text/html": [
       "<div>\n",
       "<style scoped>\n",
       "    .dataframe tbody tr th:only-of-type {\n",
       "        vertical-align: middle;\n",
       "    }\n",
       "\n",
       "    .dataframe tbody tr th {\n",
       "        vertical-align: top;\n",
       "    }\n",
       "\n",
       "    .dataframe thead th {\n",
       "        text-align: right;\n",
       "    }\n",
       "</style>\n",
       "<table border=\"1\" class=\"dataframe\">\n",
       "  <thead>\n",
       "    <tr style=\"text-align: right;\">\n",
       "      <th></th>\n",
       "      <th>Invoice</th>\n",
       "      <th>StockCode</th>\n",
       "      <th>Description</th>\n",
       "      <th>Quantity</th>\n",
       "      <th>InvoiceDate</th>\n",
       "      <th>Price</th>\n",
       "      <th>Customer ID</th>\n",
       "      <th>Country</th>\n",
       "    </tr>\n",
       "  </thead>\n",
       "  <tbody>\n",
       "    <tr>\n",
       "      <th>0</th>\n",
       "      <td>536365</td>\n",
       "      <td>85123A</td>\n",
       "      <td>WHITE HANGING HEART T-LIGHT HOLDER</td>\n",
       "      <td>6</td>\n",
       "      <td>2010-12-01 08:26:00</td>\n",
       "      <td>2.55</td>\n",
       "      <td>17850.0</td>\n",
       "      <td>United Kingdom</td>\n",
       "    </tr>\n",
       "    <tr>\n",
       "      <th>1</th>\n",
       "      <td>536365</td>\n",
       "      <td>71053</td>\n",
       "      <td>WHITE METAL LANTERN</td>\n",
       "      <td>6</td>\n",
       "      <td>2010-12-01 08:26:00</td>\n",
       "      <td>3.39</td>\n",
       "      <td>17850.0</td>\n",
       "      <td>United Kingdom</td>\n",
       "    </tr>\n",
       "    <tr>\n",
       "      <th>2</th>\n",
       "      <td>536365</td>\n",
       "      <td>84406B</td>\n",
       "      <td>CREAM CUPID HEARTS COAT HANGER</td>\n",
       "      <td>8</td>\n",
       "      <td>2010-12-01 08:26:00</td>\n",
       "      <td>2.75</td>\n",
       "      <td>17850.0</td>\n",
       "      <td>United Kingdom</td>\n",
       "    </tr>\n",
       "    <tr>\n",
       "      <th>3</th>\n",
       "      <td>536365</td>\n",
       "      <td>84029G</td>\n",
       "      <td>KNITTED UNION FLAG HOT WATER BOTTLE</td>\n",
       "      <td>6</td>\n",
       "      <td>2010-12-01 08:26:00</td>\n",
       "      <td>3.39</td>\n",
       "      <td>17850.0</td>\n",
       "      <td>United Kingdom</td>\n",
       "    </tr>\n",
       "    <tr>\n",
       "      <th>4</th>\n",
       "      <td>536365</td>\n",
       "      <td>84029E</td>\n",
       "      <td>RED WOOLLY HOTTIE WHITE HEART.</td>\n",
       "      <td>6</td>\n",
       "      <td>2010-12-01 08:26:00</td>\n",
       "      <td>3.39</td>\n",
       "      <td>17850.0</td>\n",
       "      <td>United Kingdom</td>\n",
       "    </tr>\n",
       "    <tr>\n",
       "      <th>...</th>\n",
       "      <td>...</td>\n",
       "      <td>...</td>\n",
       "      <td>...</td>\n",
       "      <td>...</td>\n",
       "      <td>...</td>\n",
       "      <td>...</td>\n",
       "      <td>...</td>\n",
       "      <td>...</td>\n",
       "    </tr>\n",
       "    <tr>\n",
       "      <th>99994</th>\n",
       "      <td>544795</td>\n",
       "      <td>22716</td>\n",
       "      <td>CARD CIRCUS PARADE</td>\n",
       "      <td>12</td>\n",
       "      <td>2011-02-23 13:21:00</td>\n",
       "      <td>0.42</td>\n",
       "      <td>15858.0</td>\n",
       "      <td>United Kingdom</td>\n",
       "    </tr>\n",
       "    <tr>\n",
       "      <th>99995</th>\n",
       "      <td>544795</td>\n",
       "      <td>22815</td>\n",
       "      <td>CARD PSYCHEDELIC APPLES</td>\n",
       "      <td>12</td>\n",
       "      <td>2011-02-23 13:21:00</td>\n",
       "      <td>0.42</td>\n",
       "      <td>15858.0</td>\n",
       "      <td>United Kingdom</td>\n",
       "    </tr>\n",
       "    <tr>\n",
       "      <th>99996</th>\n",
       "      <td>544795</td>\n",
       "      <td>22028</td>\n",
       "      <td>PENNY FARTHING BIRTHDAY CARD</td>\n",
       "      <td>12</td>\n",
       "      <td>2011-02-23 13:21:00</td>\n",
       "      <td>0.42</td>\n",
       "      <td>15858.0</td>\n",
       "      <td>United Kingdom</td>\n",
       "    </tr>\n",
       "    <tr>\n",
       "      <th>99997</th>\n",
       "      <td>544795</td>\n",
       "      <td>22035</td>\n",
       "      <td>VINTAGE CARAVAN GREETING CARD</td>\n",
       "      <td>12</td>\n",
       "      <td>2011-02-23 13:21:00</td>\n",
       "      <td>0.42</td>\n",
       "      <td>15858.0</td>\n",
       "      <td>United Kingdom</td>\n",
       "    </tr>\n",
       "    <tr>\n",
       "      <th>99998</th>\n",
       "      <td>544795</td>\n",
       "      <td>22024</td>\n",
       "      <td>RAINY LADIES BIRTHDAY CARD</td>\n",
       "      <td>12</td>\n",
       "      <td>2011-02-23 13:21:00</td>\n",
       "      <td>0.42</td>\n",
       "      <td>15858.0</td>\n",
       "      <td>United Kingdom</td>\n",
       "    </tr>\n",
       "  </tbody>\n",
       "</table>\n",
       "<p>99999 rows × 8 columns</p>\n",
       "</div>"
      ],
      "text/plain": [
       "      Invoice StockCode                          Description  Quantity  \\\n",
       "0      536365    85123A   WHITE HANGING HEART T-LIGHT HOLDER         6   \n",
       "1      536365     71053                  WHITE METAL LANTERN         6   \n",
       "2      536365    84406B       CREAM CUPID HEARTS COAT HANGER         8   \n",
       "3      536365    84029G  KNITTED UNION FLAG HOT WATER BOTTLE         6   \n",
       "4      536365    84029E       RED WOOLLY HOTTIE WHITE HEART.         6   \n",
       "...       ...       ...                                  ...       ...   \n",
       "99994  544795     22716                   CARD CIRCUS PARADE        12   \n",
       "99995  544795     22815              CARD PSYCHEDELIC APPLES        12   \n",
       "99996  544795     22028         PENNY FARTHING BIRTHDAY CARD        12   \n",
       "99997  544795     22035       VINTAGE CARAVAN GREETING CARD         12   \n",
       "99998  544795     22024           RAINY LADIES BIRTHDAY CARD        12   \n",
       "\n",
       "              InvoiceDate  Price  Customer ID         Country  \n",
       "0     2010-12-01 08:26:00   2.55      17850.0  United Kingdom  \n",
       "1     2010-12-01 08:26:00   3.39      17850.0  United Kingdom  \n",
       "2     2010-12-01 08:26:00   2.75      17850.0  United Kingdom  \n",
       "3     2010-12-01 08:26:00   3.39      17850.0  United Kingdom  \n",
       "4     2010-12-01 08:26:00   3.39      17850.0  United Kingdom  \n",
       "...                   ...    ...          ...             ...  \n",
       "99994 2011-02-23 13:21:00   0.42      15858.0  United Kingdom  \n",
       "99995 2011-02-23 13:21:00   0.42      15858.0  United Kingdom  \n",
       "99996 2011-02-23 13:21:00   0.42      15858.0  United Kingdom  \n",
       "99997 2011-02-23 13:21:00   0.42      15858.0  United Kingdom  \n",
       "99998 2011-02-23 13:21:00   0.42      15858.0  United Kingdom  \n",
       "\n",
       "[99999 rows x 8 columns]"
      ]
     },
     "execution_count": 1,
     "metadata": {},
     "output_type": "execute_result"
    }
   ],
   "source": [
    "import pandas as pd\n",
    "import numpy as np\n",
    "from datetime import datetime\n",
    "import matplotlib.pyplot as plt\n",
    "\n",
    "\n",
    "df = pd.read_excel(r\"C:\\Users\\Hazeeb\\OneDrive\\Desktop\\inter\\New folder\\online_retail_II (1)_Updated.xlsx\")\n",
    "df"
   ]
  },
  {
   "cell_type": "code",
   "execution_count": 2,
   "metadata": {},
   "outputs": [
    {
     "data": {
      "text/plain": [
       "Invoice                object\n",
       "StockCode              object\n",
       "Description            object\n",
       "Quantity                int64\n",
       "InvoiceDate    datetime64[ns]\n",
       "Price                 float64\n",
       "Customer ID           float64\n",
       "Country                object\n",
       "dtype: object"
      ]
     },
     "execution_count": 2,
     "metadata": {},
     "output_type": "execute_result"
    }
   ],
   "source": [
    "df.dtypes"
   ]
  },
  {
   "cell_type": "code",
   "execution_count": 3,
   "metadata": {},
   "outputs": [
    {
     "data": {
      "text/html": [
       "<div>\n",
       "<style scoped>\n",
       "    .dataframe tbody tr th:only-of-type {\n",
       "        vertical-align: middle;\n",
       "    }\n",
       "\n",
       "    .dataframe tbody tr th {\n",
       "        vertical-align: top;\n",
       "    }\n",
       "\n",
       "    .dataframe thead th {\n",
       "        text-align: right;\n",
       "    }\n",
       "</style>\n",
       "<table border=\"1\" class=\"dataframe\">\n",
       "  <thead>\n",
       "    <tr style=\"text-align: right;\">\n",
       "      <th></th>\n",
       "      <th>Quantity</th>\n",
       "      <th>InvoiceDate</th>\n",
       "      <th>Price</th>\n",
       "      <th>Customer ID</th>\n",
       "    </tr>\n",
       "  </thead>\n",
       "  <tbody>\n",
       "    <tr>\n",
       "      <th>count</th>\n",
       "      <td>99999.000000</td>\n",
       "      <td>99999</td>\n",
       "      <td>99999.000000</td>\n",
       "      <td>65084.000000</td>\n",
       "    </tr>\n",
       "    <tr>\n",
       "      <th>mean</th>\n",
       "      <td>8.892949</td>\n",
       "      <td>2011-01-07 05:17:00.130201344</td>\n",
       "      <td>5.396653</td>\n",
       "      <td>15350.988415</td>\n",
       "    </tr>\n",
       "    <tr>\n",
       "      <th>min</th>\n",
       "      <td>-74215.000000</td>\n",
       "      <td>2010-12-01 08:26:00</td>\n",
       "      <td>0.000000</td>\n",
       "      <td>12346.000000</td>\n",
       "    </tr>\n",
       "    <tr>\n",
       "      <th>25%</th>\n",
       "      <td>1.000000</td>\n",
       "      <td>2010-12-10 15:17:00</td>\n",
       "      <td>1.250000</td>\n",
       "      <td>13869.000000</td>\n",
       "    </tr>\n",
       "    <tr>\n",
       "      <th>50%</th>\n",
       "      <td>3.000000</td>\n",
       "      <td>2011-01-09 15:13:00</td>\n",
       "      <td>2.510000</td>\n",
       "      <td>15311.000000</td>\n",
       "    </tr>\n",
       "    <tr>\n",
       "      <th>75%</th>\n",
       "      <td>8.000000</td>\n",
       "      <td>2011-01-28 13:54:00</td>\n",
       "      <td>4.250000</td>\n",
       "      <td>16997.000000</td>\n",
       "    </tr>\n",
       "    <tr>\n",
       "      <th>max</th>\n",
       "      <td>74215.000000</td>\n",
       "      <td>2011-02-23 13:21:00</td>\n",
       "      <td>16888.020000</td>\n",
       "      <td>18283.000000</td>\n",
       "    </tr>\n",
       "    <tr>\n",
       "      <th>std</th>\n",
       "      <td>336.564383</td>\n",
       "      <td>NaN</td>\n",
       "      <td>120.891603</td>\n",
       "      <td>1769.766795</td>\n",
       "    </tr>\n",
       "  </tbody>\n",
       "</table>\n",
       "</div>"
      ],
      "text/plain": [
       "           Quantity                    InvoiceDate         Price   Customer ID\n",
       "count  99999.000000                          99999  99999.000000  65084.000000\n",
       "mean       8.892949  2011-01-07 05:17:00.130201344      5.396653  15350.988415\n",
       "min   -74215.000000            2010-12-01 08:26:00      0.000000  12346.000000\n",
       "25%        1.000000            2010-12-10 15:17:00      1.250000  13869.000000\n",
       "50%        3.000000            2011-01-09 15:13:00      2.510000  15311.000000\n",
       "75%        8.000000            2011-01-28 13:54:00      4.250000  16997.000000\n",
       "max    74215.000000            2011-02-23 13:21:00  16888.020000  18283.000000\n",
       "std      336.564383                            NaN    120.891603   1769.766795"
      ]
     },
     "execution_count": 3,
     "metadata": {},
     "output_type": "execute_result"
    }
   ],
   "source": [
    "df.describe()"
   ]
  },
  {
   "cell_type": "code",
   "execution_count": 4,
   "metadata": {},
   "outputs": [
    {
     "data": {
      "text/plain": [
       "Invoice            0\n",
       "StockCode          0\n",
       "Description      299\n",
       "Quantity           0\n",
       "InvoiceDate        0\n",
       "Price              0\n",
       "Customer ID    34915\n",
       "Country            0\n",
       "dtype: int64"
      ]
     },
     "execution_count": 4,
     "metadata": {},
     "output_type": "execute_result"
    }
   ],
   "source": [
    "df.isnull().sum()"
   ]
  },
  {
   "cell_type": "code",
   "execution_count": 5,
   "metadata": {},
   "outputs": [
    {
     "data": {
      "text/plain": [
       "Invoice            0\n",
       "StockCode          0\n",
       "Description        0\n",
       "Quantity           0\n",
       "InvoiceDate        0\n",
       "Price              0\n",
       "Customer ID    34915\n",
       "Country            0\n",
       "dtype: int64"
      ]
     },
     "execution_count": 5,
     "metadata": {},
     "output_type": "execute_result"
    }
   ],
   "source": [
    "df['Customer ID'] = df['Customer ID'].dropna()\n",
    "df['Description'] = df['Description'].fillna(\"unknown\")\n",
    "df.isnull().sum()"
   ]
  },
  {
   "cell_type": "code",
   "execution_count": 49,
   "metadata": {},
   "outputs": [
    {
     "data": {
      "text/html": [
       "<div>\n",
       "<style scoped>\n",
       "    .dataframe tbody tr th:only-of-type {\n",
       "        vertical-align: middle;\n",
       "    }\n",
       "\n",
       "    .dataframe tbody tr th {\n",
       "        vertical-align: top;\n",
       "    }\n",
       "\n",
       "    .dataframe thead th {\n",
       "        text-align: right;\n",
       "    }\n",
       "</style>\n",
       "<table border=\"1\" class=\"dataframe\">\n",
       "  <thead>\n",
       "    <tr style=\"text-align: right;\">\n",
       "      <th></th>\n",
       "      <th>Invoice</th>\n",
       "      <th>StockCode</th>\n",
       "      <th>Description</th>\n",
       "      <th>Quantity</th>\n",
       "      <th>InvoiceDate</th>\n",
       "      <th>Price</th>\n",
       "      <th>Customer ID</th>\n",
       "      <th>Country</th>\n",
       "    </tr>\n",
       "  </thead>\n",
       "  <tbody>\n",
       "    <tr>\n",
       "      <th>99994</th>\n",
       "      <td>544795</td>\n",
       "      <td>22716</td>\n",
       "      <td>CARD CIRCUS PARADE</td>\n",
       "      <td>12</td>\n",
       "      <td>2011-02-23 13:21:00</td>\n",
       "      <td>0.42</td>\n",
       "      <td>15858.0</td>\n",
       "      <td>United Kingdom</td>\n",
       "    </tr>\n",
       "    <tr>\n",
       "      <th>99995</th>\n",
       "      <td>544795</td>\n",
       "      <td>22815</td>\n",
       "      <td>CARD PSYCHEDELIC APPLES</td>\n",
       "      <td>12</td>\n",
       "      <td>2011-02-23 13:21:00</td>\n",
       "      <td>0.42</td>\n",
       "      <td>15858.0</td>\n",
       "      <td>United Kingdom</td>\n",
       "    </tr>\n",
       "    <tr>\n",
       "      <th>99996</th>\n",
       "      <td>544795</td>\n",
       "      <td>22028</td>\n",
       "      <td>PENNY FARTHING BIRTHDAY CARD</td>\n",
       "      <td>12</td>\n",
       "      <td>2011-02-23 13:21:00</td>\n",
       "      <td>0.42</td>\n",
       "      <td>15858.0</td>\n",
       "      <td>United Kingdom</td>\n",
       "    </tr>\n",
       "    <tr>\n",
       "      <th>99997</th>\n",
       "      <td>544795</td>\n",
       "      <td>22035</td>\n",
       "      <td>VINTAGE CARAVAN GREETING CARD</td>\n",
       "      <td>12</td>\n",
       "      <td>2011-02-23 13:21:00</td>\n",
       "      <td>0.42</td>\n",
       "      <td>15858.0</td>\n",
       "      <td>United Kingdom</td>\n",
       "    </tr>\n",
       "    <tr>\n",
       "      <th>99998</th>\n",
       "      <td>544795</td>\n",
       "      <td>22024</td>\n",
       "      <td>RAINY LADIES BIRTHDAY CARD</td>\n",
       "      <td>12</td>\n",
       "      <td>2011-02-23 13:21:00</td>\n",
       "      <td>0.42</td>\n",
       "      <td>15858.0</td>\n",
       "      <td>United Kingdom</td>\n",
       "    </tr>\n",
       "  </tbody>\n",
       "</table>\n",
       "</div>"
      ],
      "text/plain": [
       "      Invoice StockCode                     Description  Quantity  \\\n",
       "99994  544795     22716              CARD CIRCUS PARADE        12   \n",
       "99995  544795     22815         CARD PSYCHEDELIC APPLES        12   \n",
       "99996  544795     22028    PENNY FARTHING BIRTHDAY CARD        12   \n",
       "99997  544795     22035  VINTAGE CARAVAN GREETING CARD         12   \n",
       "99998  544795     22024      RAINY LADIES BIRTHDAY CARD        12   \n",
       "\n",
       "              InvoiceDate  Price  Customer ID         Country  \n",
       "99994 2011-02-23 13:21:00   0.42      15858.0  United Kingdom  \n",
       "99995 2011-02-23 13:21:00   0.42      15858.0  United Kingdom  \n",
       "99996 2011-02-23 13:21:00   0.42      15858.0  United Kingdom  \n",
       "99997 2011-02-23 13:21:00   0.42      15858.0  United Kingdom  \n",
       "99998 2011-02-23 13:21:00   0.42      15858.0  United Kingdom  "
      ]
     },
     "execution_count": 49,
     "metadata": {},
     "output_type": "execute_result"
    }
   ],
   "source": [
    "df.tail()"
   ]
  },
  {
   "cell_type": "markdown",
   "metadata": {},
   "source": [
    "TASK 2"
   ]
  },
  {
   "cell_type": "code",
   "execution_count": 13,
   "metadata": {},
   "outputs": [
    {
     "data": {
      "image/png": "[encoded data removed]",
      "text/plain": [
       "<Figure size 1000x600 with 1 Axes>"
      ]
     },
     "metadata": {},
     "output_type": "display_data"
    },
    {
     "data": {
      "image/png": "[encoded data removed]",
      "text/plain": [
       "<Figure size 1000x600 with 1 Axes>"
      ]
     },
     "metadata": {},
     "output_type": "display_data"
    }
   ],
   "source": [
    "import matplotlib.pyplot as plt\n",
    "df['Date'] = df['InvoiceDate'].dt.date\n",
    "\n",
    "daily_transactions = df.groupby('Date').size()\n",
    "daily_transactions.plot(kind='line', figsize=(10, 6))\n",
    "plt.title('Daily Transactions Over Time')\n",
    "plt.xlabel('Date')\n",
    "plt.ylabel('Number of Transactions')\n",
    "plt.show()\n",
    "\n",
    "\n",
    "monthly_transactions = df.resample('M', on='InvoiceDate').size()\n",
    "monthly_transactions.plot(kind='bar', figsize=(10, 6))\n",
    "plt.title('Monthly Transactions Over Time')\n",
    "plt.xlabel('Month')\n",
    "plt.ylabel('Number of Transactions')\n",
    "plt.show()"
   ]
  },
  {
   "cell_type": "code",
   "execution_count": 18,
   "metadata": {},
   "outputs": [
    {
     "name": "stdout",
     "output_type": "stream",
     "text": [
      "Total Revenue: 1727703.3199999998\n",
      "Average Order Value: 371.07030068728517\n",
      "Total Number of Customers: 1663\n"
     ]
    }
   ],
   "source": [
    "df['TotalPrice'] = df['Quantity'] * df['Price']\n",
    "total_revenue = df['TotalPrice'].sum()\n",
    "average_order_value = total_revenue / df['Invoice'].nunique()\n",
    "total_customers = df['Customer ID'].nunique()\n",
    "\n",
    "print(\"Total Revenue:\", total_revenue)\n",
    "print(\"Average Order Value:\", average_order_value)\n",
    "print(\"Total Number of Customers:\", total_customers)"
   ]
  },
  {
   "cell_type": "code",
   "execution_count": 14,
   "metadata": {},
   "outputs": [
    {
     "name": "stdout",
     "output_type": "stream",
     "text": [
      "Top Selling Products:\n",
      "Description\n",
      "WHITE HANGING HEART T-LIGHT HOLDER    10498\n",
      "WORLD WAR 2 GLIDERS ASSTD DESIGNS     10157\n",
      "PACK OF 72 RETROSPOT CAKE CASES        9176\n",
      "JUMBO BAG RED RETROSPOT                7413\n",
      "unknown                                7082\n",
      "SMALL POPCORN HOLDER                   7002\n",
      "GROW A FLYTRAP OR SUNFLOWER IN TIN     6748\n",
      "PACK OF 12 LONDON TISSUES              5821\n",
      "ASSORTED COLOUR BIRD ORNAMENT          5573\n",
      "HEART OF WICKER SMALL                  5566\n",
      "Name: Quantity, dtype: int64\n"
     ]
    }
   ],
   "source": [
    "top_products = df.groupby('Description')['Quantity'].sum().sort_values(ascending=False).head(10)\n",
    "print(\"Top Selling Products:\")\n",
    "print(top_products)\n"
   ]
  },
  {
   "cell_type": "code",
   "execution_count": 15,
   "metadata": {},
   "outputs": [
    {
     "name": "stdout",
     "output_type": "stream",
     "text": [
      "Top Selling Product Categories:\n",
      "Description\n",
      "WHITE HANGING HEART T-LIGHT HOLDER    10498\n",
      "WORLD WAR 2 GLIDERS ASSTD DESIGNS     10157\n",
      "PACK OF 72 RETROSPOT CAKE CASES        9176\n",
      "JUMBO BAG RED RETROSPOT                7413\n",
      "unknown                                7082\n",
      "SMALL POPCORN HOLDER                   7002\n",
      "GROW A FLYTRAP OR SUNFLOWER IN TIN     6748\n",
      "PACK OF 12 LONDON TISSUES              5821\n",
      "ASSORTED COLOUR BIRD ORNAMENT          5573\n",
      "HEART OF WICKER SMALL                  5566\n",
      "Name: Quantity, dtype: int64\n"
     ]
    }
   ],
   "source": [
    "top_categories = df.groupby('Description')['Quantity'].sum().sort_values(ascending=False).head(10)\n",
    "print(\"Top Selling Product Categories:\")\n",
    "print(top_categories)"
   ]
  },
  {
   "cell_type": "code",
   "execution_count": 16,
   "metadata": {},
   "outputs": [
    {
     "name": "stdout",
     "output_type": "stream",
     "text": [
      "Customer Demographics by Country:\n",
      "Country\n",
      "Australia                  8\n",
      "Austria                    4\n",
      "Bahrain                    0\n",
      "Belgium                    9\n",
      "Channel Islands            3\n",
      "Cyprus                     5\n",
      "Denmark                    2\n",
      "EIRE                       3\n",
      "Finland                    2\n",
      "France                    36\n",
      "Germany                   42\n",
      "Greece                     1\n",
      "Hong Kong                  0\n",
      "Iceland                    1\n",
      "Israel                     2\n",
      "Italy                      7\n",
      "Japan                      4\n",
      "Lebanon                    1\n",
      "Lithuania                  1\n",
      "Netherlands                4\n",
      "Norway                     3\n",
      "Poland                     2\n",
      "Portugal                   7\n",
      "Singapore                  1\n",
      "Spain                     12\n",
      "Sweden                     3\n",
      "Switzerland                4\n",
      "United Arab Emirates       1\n",
      "United Kingdom          1497\n",
      "Name: Customer ID, dtype: int64\n"
     ]
    }
   ],
   "source": [
    "# Explore customer demographics by country\n",
    "customer_demographics = df.groupby('Country')['Customer ID'].nunique()\n",
    "print(\"Customer Demographics by Country:\")\n",
    "print(customer_demographics)"
   ]
  },
  {
   "cell_type": "markdown",
   "metadata": {},
   "source": [
    "TASK 3"
   ]
  },
  {
   "cell_type": "markdown",
   "metadata": {},
   "source": [
    "1) Recency :- when was the last time customer intracted with us"
   ]
  },
  {
   "cell_type": "code",
   "execution_count": 7,
   "metadata": {},
   "outputs": [
    {
     "name": "stdout",
     "output_type": "stream",
     "text": [
      "             InvoiceDate\n",
      "Customer ID             \n",
      "12346.0               37\n",
      "12347.0               28\n",
      "12348.0               30\n",
      "12350.0               21\n",
      "12352.0                8\n",
      "...                  ...\n",
      "18259.0               77\n",
      "18260.0               33\n",
      "18269.0               69\n",
      "18277.0               30\n",
      "18283.0               31\n",
      "\n",
      "[1663 rows x 1 columns]\n"
     ]
    }
   ],
   "source": [
    "\n",
    "today_date = df['InvoiceDate'].max() + pd.Timedelta(days=1)\n",
    "#today_date\n",
    "today_date = pd.to_datetime(today_date)\n",
    "\n",
    "recency = df.groupby('Customer ID').agg({\n",
    "    'InvoiceDate': lambda x: (today_date - x.max()).days,  # Recency\n",
    "    #'Invoice': 'nunique',  # Frequency\n",
    "    #'Price': 'sum'  # Monetary\n",
    "})\n",
    "\n",
    "print(recency)\n",
    "\n"
   ]
  },
  {
   "cell_type": "markdown",
   "metadata": {},
   "source": [
    "2) Frequency :- how many times the customer intracted with us"
   ]
  },
  {
   "cell_type": "code",
   "execution_count": 8,
   "metadata": {},
   "outputs": [
    {
     "data": {
      "text/html": [
       "<div>\n",
       "<style scoped>\n",
       "    .dataframe tbody tr th:only-of-type {\n",
       "        vertical-align: middle;\n",
       "    }\n",
       "\n",
       "    .dataframe tbody tr th {\n",
       "        vertical-align: top;\n",
       "    }\n",
       "\n",
       "    .dataframe thead th {\n",
       "        text-align: right;\n",
       "    }\n",
       "</style>\n",
       "<table border=\"1\" class=\"dataframe\">\n",
       "  <thead>\n",
       "    <tr style=\"text-align: right;\">\n",
       "      <th></th>\n",
       "      <th>Invoice</th>\n",
       "    </tr>\n",
       "    <tr>\n",
       "      <th>Customer ID</th>\n",
       "      <th></th>\n",
       "    </tr>\n",
       "  </thead>\n",
       "  <tbody>\n",
       "    <tr>\n",
       "      <th>12346.0</th>\n",
       "      <td>2</td>\n",
       "    </tr>\n",
       "    <tr>\n",
       "      <th>12347.0</th>\n",
       "      <td>2</td>\n",
       "    </tr>\n",
       "    <tr>\n",
       "      <th>12348.0</th>\n",
       "      <td>2</td>\n",
       "    </tr>\n",
       "    <tr>\n",
       "      <th>12350.0</th>\n",
       "      <td>1</td>\n",
       "    </tr>\n",
       "    <tr>\n",
       "      <th>12352.0</th>\n",
       "      <td>1</td>\n",
       "    </tr>\n",
       "    <tr>\n",
       "      <th>...</th>\n",
       "      <td>...</td>\n",
       "    </tr>\n",
       "    <tr>\n",
       "      <th>18259.0</th>\n",
       "      <td>1</td>\n",
       "    </tr>\n",
       "    <tr>\n",
       "      <th>18260.0</th>\n",
       "      <td>3</td>\n",
       "    </tr>\n",
       "    <tr>\n",
       "      <th>18269.0</th>\n",
       "      <td>2</td>\n",
       "    </tr>\n",
       "    <tr>\n",
       "      <th>18277.0</th>\n",
       "      <td>1</td>\n",
       "    </tr>\n",
       "    <tr>\n",
       "      <th>18283.0</th>\n",
       "      <td>2</td>\n",
       "    </tr>\n",
       "  </tbody>\n",
       "</table>\n",
       "<p>1663 rows × 1 columns</p>\n",
       "</div>"
      ],
      "text/plain": [
       "             Invoice\n",
       "Customer ID         \n",
       "12346.0            2\n",
       "12347.0            2\n",
       "12348.0            2\n",
       "12350.0            1\n",
       "12352.0            1\n",
       "...              ...\n",
       "18259.0            1\n",
       "18260.0            3\n",
       "18269.0            2\n",
       "18277.0            1\n",
       "18283.0            2\n",
       "\n",
       "[1663 rows x 1 columns]"
      ]
     },
     "execution_count": 8,
     "metadata": {},
     "output_type": "execute_result"
    }
   ],
   "source": [
    "frq = df.drop_duplicates(subset=\"Invoice\").groupby(['Customer ID'])[['Invoice']].count()\n",
    "frq"
   ]
  },
  {
   "cell_type": "markdown",
   "metadata": {},
   "source": [
    "3) Monetary : amount spent by the cutomer"
   ]
  },
  {
   "cell_type": "code",
   "execution_count": 9,
   "metadata": {},
   "outputs": [
    {
     "data": {
      "text/html": [
       "<div>\n",
       "<style scoped>\n",
       "    .dataframe tbody tr th:only-of-type {\n",
       "        vertical-align: middle;\n",
       "    }\n",
       "\n",
       "    .dataframe tbody tr th {\n",
       "        vertical-align: top;\n",
       "    }\n",
       "\n",
       "    .dataframe thead th {\n",
       "        text-align: right;\n",
       "    }\n",
       "</style>\n",
       "<table border=\"1\" class=\"dataframe\">\n",
       "  <thead>\n",
       "    <tr style=\"text-align: right;\">\n",
       "      <th></th>\n",
       "      <th>total_price</th>\n",
       "    </tr>\n",
       "    <tr>\n",
       "      <th>Customer ID</th>\n",
       "      <th></th>\n",
       "    </tr>\n",
       "  </thead>\n",
       "  <tbody>\n",
       "    <tr>\n",
       "      <th>12346.0</th>\n",
       "      <td>0.00</td>\n",
       "    </tr>\n",
       "    <tr>\n",
       "      <th>12347.0</th>\n",
       "      <td>1187.18</td>\n",
       "    </tr>\n",
       "    <tr>\n",
       "      <th>12348.0</th>\n",
       "      <td>1120.24</td>\n",
       "    </tr>\n",
       "    <tr>\n",
       "      <th>12350.0</th>\n",
       "      <td>334.40</td>\n",
       "    </tr>\n",
       "    <tr>\n",
       "      <th>12352.0</th>\n",
       "      <td>296.50</td>\n",
       "    </tr>\n",
       "    <tr>\n",
       "      <th>...</th>\n",
       "      <td>...</td>\n",
       "    </tr>\n",
       "    <tr>\n",
       "      <th>18259.0</th>\n",
       "      <td>376.30</td>\n",
       "    </tr>\n",
       "    <tr>\n",
       "      <th>18260.0</th>\n",
       "      <td>769.52</td>\n",
       "    </tr>\n",
       "    <tr>\n",
       "      <th>18269.0</th>\n",
       "      <td>138.90</td>\n",
       "    </tr>\n",
       "    <tr>\n",
       "      <th>18277.0</th>\n",
       "      <td>-12.75</td>\n",
       "    </tr>\n",
       "    <tr>\n",
       "      <th>18283.0</th>\n",
       "      <td>215.00</td>\n",
       "    </tr>\n",
       "  </tbody>\n",
       "</table>\n",
       "<p>1663 rows × 1 columns</p>\n",
       "</div>"
      ],
      "text/plain": [
       "             total_price\n",
       "Customer ID             \n",
       "12346.0             0.00\n",
       "12347.0          1187.18\n",
       "12348.0          1120.24\n",
       "12350.0           334.40\n",
       "12352.0           296.50\n",
       "...                  ...\n",
       "18259.0           376.30\n",
       "18260.0           769.52\n",
       "18269.0           138.90\n",
       "18277.0           -12.75\n",
       "18283.0           215.00\n",
       "\n",
       "[1663 rows x 1 columns]"
      ]
     },
     "execution_count": 9,
     "metadata": {},
     "output_type": "execute_result"
    }
   ],
   "source": [
    "df['total_price'] = df['Price']*df[\"Quantity\"]\n",
    "\n",
    "mone = df.groupby(['Customer ID'])[['total_price']].sum()\n",
    "mone"
   ]
  },
  {
   "cell_type": "code",
   "execution_count": 10,
   "metadata": {},
   "outputs": [
    {
     "data": {
      "text/html": [
       "<div>\n",
       "<style scoped>\n",
       "    .dataframe tbody tr th:only-of-type {\n",
       "        vertical-align: middle;\n",
       "    }\n",
       "\n",
       "    .dataframe tbody tr th {\n",
       "        vertical-align: top;\n",
       "    }\n",
       "\n",
       "    .dataframe thead th {\n",
       "        text-align: right;\n",
       "    }\n",
       "</style>\n",
       "<table border=\"1\" class=\"dataframe\">\n",
       "  <thead>\n",
       "    <tr style=\"text-align: right;\">\n",
       "      <th></th>\n",
       "      <th>InvoiceDate</th>\n",
       "      <th>Invoice</th>\n",
       "      <th>total_price</th>\n",
       "    </tr>\n",
       "    <tr>\n",
       "      <th>Customer ID</th>\n",
       "      <th></th>\n",
       "      <th></th>\n",
       "      <th></th>\n",
       "    </tr>\n",
       "  </thead>\n",
       "  <tbody>\n",
       "    <tr>\n",
       "      <th>12346.0</th>\n",
       "      <td>37</td>\n",
       "      <td>2</td>\n",
       "      <td>0.00</td>\n",
       "    </tr>\n",
       "    <tr>\n",
       "      <th>12347.0</th>\n",
       "      <td>28</td>\n",
       "      <td>2</td>\n",
       "      <td>1187.18</td>\n",
       "    </tr>\n",
       "    <tr>\n",
       "      <th>12348.0</th>\n",
       "      <td>30</td>\n",
       "      <td>2</td>\n",
       "      <td>1120.24</td>\n",
       "    </tr>\n",
       "    <tr>\n",
       "      <th>12350.0</th>\n",
       "      <td>21</td>\n",
       "      <td>1</td>\n",
       "      <td>334.40</td>\n",
       "    </tr>\n",
       "    <tr>\n",
       "      <th>12352.0</th>\n",
       "      <td>8</td>\n",
       "      <td>1</td>\n",
       "      <td>296.50</td>\n",
       "    </tr>\n",
       "    <tr>\n",
       "      <th>...</th>\n",
       "      <td>...</td>\n",
       "      <td>...</td>\n",
       "      <td>...</td>\n",
       "    </tr>\n",
       "    <tr>\n",
       "      <th>18259.0</th>\n",
       "      <td>77</td>\n",
       "      <td>1</td>\n",
       "      <td>376.30</td>\n",
       "    </tr>\n",
       "    <tr>\n",
       "      <th>18260.0</th>\n",
       "      <td>33</td>\n",
       "      <td>3</td>\n",
       "      <td>769.52</td>\n",
       "    </tr>\n",
       "    <tr>\n",
       "      <th>18269.0</th>\n",
       "      <td>69</td>\n",
       "      <td>2</td>\n",
       "      <td>138.90</td>\n",
       "    </tr>\n",
       "    <tr>\n",
       "      <th>18277.0</th>\n",
       "      <td>30</td>\n",
       "      <td>1</td>\n",
       "      <td>-12.75</td>\n",
       "    </tr>\n",
       "    <tr>\n",
       "      <th>18283.0</th>\n",
       "      <td>31</td>\n",
       "      <td>2</td>\n",
       "      <td>215.00</td>\n",
       "    </tr>\n",
       "  </tbody>\n",
       "</table>\n",
       "<p>1663 rows × 3 columns</p>\n",
       "</div>"
      ],
      "text/plain": [
       "             InvoiceDate  Invoice  total_price\n",
       "Customer ID                                   \n",
       "12346.0               37        2         0.00\n",
       "12347.0               28        2      1187.18\n",
       "12348.0               30        2      1120.24\n",
       "12350.0               21        1       334.40\n",
       "12352.0                8        1       296.50\n",
       "...                  ...      ...          ...\n",
       "18259.0               77        1       376.30\n",
       "18260.0               33        3       769.52\n",
       "18269.0               69        2       138.90\n",
       "18277.0               30        1       -12.75\n",
       "18283.0               31        2       215.00\n",
       "\n",
       "[1663 rows x 3 columns]"
      ]
     },
     "execution_count": 10,
     "metadata": {},
     "output_type": "execute_result"
    }
   ],
   "source": [
    "RFM = pd.concat([recency,frq,mone],axis=1)\n",
    "RFM"
   ]
  },
  {
   "cell_type": "markdown",
   "metadata": {},
   "source": [
    "we can combine these 3 rfm"
   ]
  },
  {
   "cell_type": "code",
   "execution_count": 12,
   "metadata": {},
   "outputs": [
    {
     "name": "stdout",
     "output_type": "stream",
     "text": [
      "             Recency  Frequency  Monetary\n",
      "Customer ID                              \n",
      "12346.0           37          2      2.08\n",
      "12347.0           28          2    162.76\n",
      "12348.0           30          2     91.61\n",
      "12350.0           21          1     65.30\n",
      "12352.0            8          1     68.35\n",
      "...              ...        ...       ...\n",
      "18259.0           77          1     22.10\n",
      "18260.0           33          3    128.81\n",
      "18269.0           69          2     27.10\n",
      "18277.0           30          1     12.75\n",
      "18283.0           31          2    184.20\n",
      "\n",
      "[1663 rows x 3 columns]\n"
     ]
    }
   ],
   "source": [
    "today_date = df['InvoiceDate'].max() + pd.Timedelta(days=1)\n",
    "#today_date\n",
    "today_date = pd.to_datetime(today_date)\n",
    "rfm_df = df.groupby('Customer ID').agg({\n",
    "    'InvoiceDate': lambda x: (today_date - x.max()).days,  # Recency\n",
    "    'Invoice': 'nunique',  # Frequency\n",
    "    'Price': 'sum'  # Monetary\n",
    "}).rename(columns={\n",
    "    'InvoiceDate': 'Recency',\n",
    "    'Invoice': 'Frequency',\n",
    "    'Price': 'Monetary'\n",
    "})\n",
    "\n",
    "# Display the RFM dataframe\n",
    "print(rfm_df)"
   ]
  },
  {
   "cell_type": "markdown",
   "metadata": {},
   "source": [
    "Normalization:\n",
    "but here we don't have any common scale so we have to normalize the data"
   ]
  },
  {
   "cell_type": "code",
   "execution_count": 55,
   "metadata": {},
   "outputs": [],
   "source": [
    "from sklearn.preprocessing import StandardScaler\n",
    "\n",
    "std = StandardScaler()\n",
    "stds = std.fit_transform(rfm_df)"
   ]
  },
  {
   "cell_type": "markdown",
   "metadata": {},
   "source": [
    "so now we import machine learning models to cluster"
   ]
  },
  {
   "cell_type": "code",
   "execution_count": 56,
   "metadata": {},
   "outputs": [
    {
     "name": "stderr",
     "output_type": "stream",
     "text": [
      "c:\\Users\\Hazeeb\\AppData\\Local\\Programs\\Python\\Python312\\Lib\\site-packages\\sklearn\\cluster\\_kmeans.py:1416: FutureWarning: The default value of `n_init` will change from 10 to 'auto' in 1.4. Set the value of `n_init` explicitly to suppress the warning\n",
      "  super()._check_params_vs_input(X, default_n_init=10)\n",
      "c:\\Users\\Hazeeb\\AppData\\Local\\Programs\\Python\\Python312\\Lib\\site-packages\\sklearn\\cluster\\_kmeans.py:1416: FutureWarning: The default value of `n_init` will change from 10 to 'auto' in 1.4. Set the value of `n_init` explicitly to suppress the warning\n",
      "  super()._check_params_vs_input(X, default_n_init=10)\n",
      "c:\\Users\\Hazeeb\\AppData\\Local\\Programs\\Python\\Python312\\Lib\\site-packages\\sklearn\\cluster\\_kmeans.py:1416: FutureWarning: The default value of `n_init` will change from 10 to 'auto' in 1.4. Set the value of `n_init` explicitly to suppress the warning\n",
      "  super()._check_params_vs_input(X, default_n_init=10)\n",
      "c:\\Users\\Hazeeb\\AppData\\Local\\Programs\\Python\\Python312\\Lib\\site-packages\\sklearn\\cluster\\_kmeans.py:1416: FutureWarning: The default value of `n_init` will change from 10 to 'auto' in 1.4. Set the value of `n_init` explicitly to suppress the warning\n",
      "  super()._check_params_vs_input(X, default_n_init=10)\n",
      "c:\\Users\\Hazeeb\\AppData\\Local\\Programs\\Python\\Python312\\Lib\\site-packages\\sklearn\\cluster\\_kmeans.py:1416: FutureWarning: The default value of `n_init` will change from 10 to 'auto' in 1.4. Set the value of `n_init` explicitly to suppress the warning\n",
      "  super()._check_params_vs_input(X, default_n_init=10)\n",
      "c:\\Users\\Hazeeb\\AppData\\Local\\Programs\\Python\\Python312\\Lib\\site-packages\\sklearn\\cluster\\_kmeans.py:1416: FutureWarning: The default value of `n_init` will change from 10 to 'auto' in 1.4. Set the value of `n_init` explicitly to suppress the warning\n",
      "  super()._check_params_vs_input(X, default_n_init=10)\n",
      "c:\\Users\\Hazeeb\\AppData\\Local\\Programs\\Python\\Python312\\Lib\\site-packages\\sklearn\\cluster\\_kmeans.py:1416: FutureWarning: The default value of `n_init` will change from 10 to 'auto' in 1.4. Set the value of `n_init` explicitly to suppress the warning\n",
      "  super()._check_params_vs_input(X, default_n_init=10)\n",
      "c:\\Users\\Hazeeb\\AppData\\Local\\Programs\\Python\\Python312\\Lib\\site-packages\\sklearn\\cluster\\_kmeans.py:1416: FutureWarning: The default value of `n_init` will change from 10 to 'auto' in 1.4. Set the value of `n_init` explicitly to suppress the warning\n",
      "  super()._check_params_vs_input(X, default_n_init=10)\n",
      "c:\\Users\\Hazeeb\\AppData\\Local\\Programs\\Python\\Python312\\Lib\\site-packages\\sklearn\\cluster\\_kmeans.py:1416: FutureWarning: The default value of `n_init` will change from 10 to 'auto' in 1.4. Set the value of `n_init` explicitly to suppress the warning\n",
      "  super()._check_params_vs_input(X, default_n_init=10)\n",
      "c:\\Users\\Hazeeb\\AppData\\Local\\Programs\\Python\\Python312\\Lib\\site-packages\\sklearn\\cluster\\_kmeans.py:1416: FutureWarning: The default value of `n_init` will change from 10 to 'auto' in 1.4. Set the value of `n_init` explicitly to suppress the warning\n",
      "  super()._check_params_vs_input(X, default_n_init=10)\n"
     ]
    },
    {
     "data": {
      "text/plain": [
       "[<matplotlib.lines.Line2D at 0x21045da0320>]"
      ]
     },
     "execution_count": 56,
     "metadata": {},
     "output_type": "execute_result"
    },
    {
     "data": {
      "image/png": "[encoded data removed]",
      "text/plain": [
       "<Figure size 640x480 with 1 Axes>"
      ]
     },
     "metadata": {},
     "output_type": "display_data"
    }
   ],
   "source": [
    "#if we don't know the no of clusters\n",
    "\n",
    "\n",
    "from sklearn.cluster import KMeans\n",
    "\n",
    "\n",
    "clus = []\n",
    "\n",
    "for i in np.arange(1,11):\n",
    "    kmeans = KMeans(n_clusters=i)\n",
    "    kmeans.fit(stds)\n",
    "    clus.append(kmeans.inertia_)\n",
    "\n",
    "plt.plot(clus, marker = \"o\")\n"
   ]
  },
  {
   "cell_type": "markdown",
   "metadata": {},
   "source": [
    "this method is called ellbow method"
   ]
  },
  {
   "cell_type": "code",
   "execution_count": 57,
   "metadata": {},
   "outputs": [
    {
     "name": "stderr",
     "output_type": "stream",
     "text": [
      "c:\\Users\\Hazeeb\\AppData\\Local\\Programs\\Python\\Python312\\Lib\\site-packages\\sklearn\\cluster\\_kmeans.py:1416: FutureWarning: The default value of `n_init` will change from 10 to 'auto' in 1.4. Set the value of `n_init` explicitly to suppress the warning\n",
      "  super()._check_params_vs_input(X, default_n_init=10)\n"
     ]
    },
    {
     "data": {
      "text/html": [
       "<div>\n",
       "<style scoped>\n",
       "    .dataframe tbody tr th:only-of-type {\n",
       "        vertical-align: middle;\n",
       "    }\n",
       "\n",
       "    .dataframe tbody tr th {\n",
       "        vertical-align: top;\n",
       "    }\n",
       "\n",
       "    .dataframe thead th {\n",
       "        text-align: right;\n",
       "    }\n",
       "</style>\n",
       "<table border=\"1\" class=\"dataframe\">\n",
       "  <thead>\n",
       "    <tr style=\"text-align: right;\">\n",
       "      <th></th>\n",
       "      <th>Recency</th>\n",
       "      <th>Frequency</th>\n",
       "      <th>Monetary</th>\n",
       "      <th>Clusters</th>\n",
       "    </tr>\n",
       "    <tr>\n",
       "      <th>Customer ID</th>\n",
       "      <th></th>\n",
       "      <th></th>\n",
       "      <th></th>\n",
       "      <th></th>\n",
       "    </tr>\n",
       "  </thead>\n",
       "  <tbody>\n",
       "    <tr>\n",
       "      <th>12346.0</th>\n",
       "      <td>37</td>\n",
       "      <td>2</td>\n",
       "      <td>2.08</td>\n",
       "      <td>1</td>\n",
       "    </tr>\n",
       "    <tr>\n",
       "      <th>12347.0</th>\n",
       "      <td>28</td>\n",
       "      <td>2</td>\n",
       "      <td>162.76</td>\n",
       "      <td>1</td>\n",
       "    </tr>\n",
       "    <tr>\n",
       "      <th>12348.0</th>\n",
       "      <td>30</td>\n",
       "      <td>2</td>\n",
       "      <td>91.61</td>\n",
       "      <td>1</td>\n",
       "    </tr>\n",
       "    <tr>\n",
       "      <th>12350.0</th>\n",
       "      <td>21</td>\n",
       "      <td>1</td>\n",
       "      <td>65.30</td>\n",
       "      <td>1</td>\n",
       "    </tr>\n",
       "    <tr>\n",
       "      <th>12352.0</th>\n",
       "      <td>8</td>\n",
       "      <td>1</td>\n",
       "      <td>68.35</td>\n",
       "      <td>1</td>\n",
       "    </tr>\n",
       "    <tr>\n",
       "      <th>...</th>\n",
       "      <td>...</td>\n",
       "      <td>...</td>\n",
       "      <td>...</td>\n",
       "      <td>...</td>\n",
       "    </tr>\n",
       "    <tr>\n",
       "      <th>18259.0</th>\n",
       "      <td>77</td>\n",
       "      <td>1</td>\n",
       "      <td>22.10</td>\n",
       "      <td>0</td>\n",
       "    </tr>\n",
       "    <tr>\n",
       "      <th>18260.0</th>\n",
       "      <td>33</td>\n",
       "      <td>3</td>\n",
       "      <td>128.81</td>\n",
       "      <td>1</td>\n",
       "    </tr>\n",
       "    <tr>\n",
       "      <th>18269.0</th>\n",
       "      <td>69</td>\n",
       "      <td>2</td>\n",
       "      <td>27.10</td>\n",
       "      <td>0</td>\n",
       "    </tr>\n",
       "    <tr>\n",
       "      <th>18277.0</th>\n",
       "      <td>30</td>\n",
       "      <td>1</td>\n",
       "      <td>12.75</td>\n",
       "      <td>1</td>\n",
       "    </tr>\n",
       "    <tr>\n",
       "      <th>18283.0</th>\n",
       "      <td>31</td>\n",
       "      <td>2</td>\n",
       "      <td>184.20</td>\n",
       "      <td>1</td>\n",
       "    </tr>\n",
       "  </tbody>\n",
       "</table>\n",
       "<p>1663 rows × 4 columns</p>\n",
       "</div>"
      ],
      "text/plain": [
       "             Recency  Frequency  Monetary  Clusters\n",
       "Customer ID                                        \n",
       "12346.0           37          2      2.08         1\n",
       "12347.0           28          2    162.76         1\n",
       "12348.0           30          2     91.61         1\n",
       "12350.0           21          1     65.30         1\n",
       "12352.0            8          1     68.35         1\n",
       "...              ...        ...       ...       ...\n",
       "18259.0           77          1     22.10         0\n",
       "18260.0           33          3    128.81         1\n",
       "18269.0           69          2     27.10         0\n",
       "18277.0           30          1     12.75         1\n",
       "18283.0           31          2    184.20         1\n",
       "\n",
       "[1663 rows x 4 columns]"
      ]
     },
     "execution_count": 57,
     "metadata": {},
     "output_type": "execute_result"
    }
   ],
   "source": [
    "kmeans = KMeans(n_clusters=3)\n",
    "kmeans.fit(stds)\n",
    "rfm_df[\"Clusters\"] = (kmeans.labels_)\n",
    "rfm_df"
   ]
  },
  {
   "cell_type": "code",
   "execution_count": 58,
   "metadata": {},
   "outputs": [
    {
     "name": "stdout",
     "output_type": "stream",
     "text": [
      "            Recency  Frequency     Monetary\n",
      "Clusters                                   \n",
      "0         69.098039   1.359477    70.836961\n",
      "1         18.552783   2.727447   146.428580\n",
      "2          7.000000  28.111111  1941.732222\n"
     ]
    }
   ],
   "source": [
    "# Assuming you have added a column named \"Clusters\" to your RFM dataframe\n",
    "groups = rfm_df.groupby(\"Clusters\")[['Recency', 'Frequency', 'Monetary']].mean()\n",
    "print(groups)\n",
    "\n"
   ]
  },
  {
   "cell_type": "markdown",
   "metadata": {},
   "source": [
    "creating fuction to find each costmer belongs to clusters"
   ]
  },
  {
   "cell_type": "code",
   "execution_count": 59,
   "metadata": {},
   "outputs": [],
   "source": [
    "def func(i):\n",
    "    if i[\"Clusters\"] == 0:\n",
    "        return \"avg\"\n",
    "    elif i[\"Clusters\"] == 1:\n",
    "        return \"good\"\n",
    "    else:\n",
    "        return \"very good\""
   ]
  },
  {
   "cell_type": "code",
   "execution_count": 60,
   "metadata": {},
   "outputs": [
    {
     "data": {
      "text/html": [
       "<div>\n",
       "<style scoped>\n",
       "    .dataframe tbody tr th:only-of-type {\n",
       "        vertical-align: middle;\n",
       "    }\n",
       "\n",
       "    .dataframe tbody tr th {\n",
       "        vertical-align: top;\n",
       "    }\n",
       "\n",
       "    .dataframe thead th {\n",
       "        text-align: right;\n",
       "    }\n",
       "</style>\n",
       "<table border=\"1\" class=\"dataframe\">\n",
       "  <thead>\n",
       "    <tr style=\"text-align: right;\">\n",
       "      <th></th>\n",
       "      <th>Recency</th>\n",
       "      <th>Frequency</th>\n",
       "      <th>Monetary</th>\n",
       "      <th>Clusters</th>\n",
       "      <th>Conditions</th>\n",
       "    </tr>\n",
       "    <tr>\n",
       "      <th>Customer ID</th>\n",
       "      <th></th>\n",
       "      <th></th>\n",
       "      <th></th>\n",
       "      <th></th>\n",
       "      <th></th>\n",
       "    </tr>\n",
       "  </thead>\n",
       "  <tbody>\n",
       "    <tr>\n",
       "      <th>12346.0</th>\n",
       "      <td>37</td>\n",
       "      <td>2</td>\n",
       "      <td>2.08</td>\n",
       "      <td>1</td>\n",
       "      <td>good</td>\n",
       "    </tr>\n",
       "    <tr>\n",
       "      <th>12347.0</th>\n",
       "      <td>28</td>\n",
       "      <td>2</td>\n",
       "      <td>162.76</td>\n",
       "      <td>1</td>\n",
       "      <td>good</td>\n",
       "    </tr>\n",
       "    <tr>\n",
       "      <th>12348.0</th>\n",
       "      <td>30</td>\n",
       "      <td>2</td>\n",
       "      <td>91.61</td>\n",
       "      <td>1</td>\n",
       "      <td>good</td>\n",
       "    </tr>\n",
       "    <tr>\n",
       "      <th>12350.0</th>\n",
       "      <td>21</td>\n",
       "      <td>1</td>\n",
       "      <td>65.30</td>\n",
       "      <td>1</td>\n",
       "      <td>good</td>\n",
       "    </tr>\n",
       "    <tr>\n",
       "      <th>12352.0</th>\n",
       "      <td>8</td>\n",
       "      <td>1</td>\n",
       "      <td>68.35</td>\n",
       "      <td>1</td>\n",
       "      <td>good</td>\n",
       "    </tr>\n",
       "    <tr>\n",
       "      <th>...</th>\n",
       "      <td>...</td>\n",
       "      <td>...</td>\n",
       "      <td>...</td>\n",
       "      <td>...</td>\n",
       "      <td>...</td>\n",
       "    </tr>\n",
       "    <tr>\n",
       "      <th>18259.0</th>\n",
       "      <td>77</td>\n",
       "      <td>1</td>\n",
       "      <td>22.10</td>\n",
       "      <td>0</td>\n",
       "      <td>avg</td>\n",
       "    </tr>\n",
       "    <tr>\n",
       "      <th>18260.0</th>\n",
       "      <td>33</td>\n",
       "      <td>3</td>\n",
       "      <td>128.81</td>\n",
       "      <td>1</td>\n",
       "      <td>good</td>\n",
       "    </tr>\n",
       "    <tr>\n",
       "      <th>18269.0</th>\n",
       "      <td>69</td>\n",
       "      <td>2</td>\n",
       "      <td>27.10</td>\n",
       "      <td>0</td>\n",
       "      <td>avg</td>\n",
       "    </tr>\n",
       "    <tr>\n",
       "      <th>18277.0</th>\n",
       "      <td>30</td>\n",
       "      <td>1</td>\n",
       "      <td>12.75</td>\n",
       "      <td>1</td>\n",
       "      <td>good</td>\n",
       "    </tr>\n",
       "    <tr>\n",
       "      <th>18283.0</th>\n",
       "      <td>31</td>\n",
       "      <td>2</td>\n",
       "      <td>184.20</td>\n",
       "      <td>1</td>\n",
       "      <td>good</td>\n",
       "    </tr>\n",
       "  </tbody>\n",
       "</table>\n",
       "<p>1663 rows × 5 columns</p>\n",
       "</div>"
      ],
      "text/plain": [
       "             Recency  Frequency  Monetary  Clusters Conditions\n",
       "Customer ID                                                   \n",
       "12346.0           37          2      2.08         1       good\n",
       "12347.0           28          2    162.76         1       good\n",
       "12348.0           30          2     91.61         1       good\n",
       "12350.0           21          1     65.30         1       good\n",
       "12352.0            8          1     68.35         1       good\n",
       "...              ...        ...       ...       ...        ...\n",
       "18259.0           77          1     22.10         0        avg\n",
       "18260.0           33          3    128.81         1       good\n",
       "18269.0           69          2     27.10         0        avg\n",
       "18277.0           30          1     12.75         1       good\n",
       "18283.0           31          2    184.20         1       good\n",
       "\n",
       "[1663 rows x 5 columns]"
      ]
     },
     "execution_count": 60,
     "metadata": {},
     "output_type": "execute_result"
    }
   ],
   "source": [
    "rfm_df[\"Conditions\"] = rfm_df.apply(func, axis=1)\n",
    "rfm_df"
   ]
  },
  {
   "cell_type": "code",
   "execution_count": 61,
   "metadata": {},
   "outputs": [
    {
     "data": {
      "text/plain": [
       "Conditions\n",
       "good         1042\n",
       "avg           612\n",
       "very good       9\n",
       "Name: count, dtype: int64"
      ]
     },
     "execution_count": 61,
     "metadata": {},
     "output_type": "execute_result"
    }
   ],
   "source": [
    "result = rfm_df[\"Conditions\"].value_counts()\n",
    "result"
   ]
  },
  {
   "cell_type": "code",
   "execution_count": 62,
   "metadata": {},
   "outputs": [
    {
     "data": {
      "text/plain": [
       "<Axes: ylabel='Conditions'>"
      ]
     },
     "execution_count": 62,
     "metadata": {},
     "output_type": "execute_result"
    },
    {
     "data": {
      "image/png": "[encoded data removed]",
      "text/plain": [
       "<Figure size 640x480 with 1 Axes>"
      ]
     },
     "metadata": {},
     "output_type": "display_data"
    }
   ],
   "source": [
    "result.plot(kind='barh', color=[\"Orange\",\"Red\",\"Green\"])"
   ]
  },
  {
   "cell_type": "code",
   "execution_count": null,
   "metadata": {},
   "outputs": [],
   "source": []
  },
  {
   "cell_type": "code",
   "execution_count": null,
   "metadata": {},
   "outputs": [],
   "source": []
  },
  {
   "cell_type": "code",
   "execution_count": null,
   "metadata": {},
   "outputs": [],
   "source": []
  },
  {
   "cell_type": "code",
   "execution_count": null,
   "metadata": {},
   "outputs": [],
   "source": []
  }
 ],
 "metadata": {
  "kernelspec": {
   "display_name": "Python 3",
   "language": "python",
   "name": "python3"
  },
  "language_info": {
   "codemirror_mode": {
    "name": "ipython",
    "version": 3
   },
   "file_extension": ".py",
   "mimetype": "text/x-python",
   "name": "python",
   "nbconvert_exporter": "python",
   "pygments_lexer": "ipython3",
   "version": "3.12.0"
  }
 },
 "nbformat": 4,
 "nbformat_minor": 2
}
